{
 "cells": [
  {
   "cell_type": "markdown",
   "metadata": {},
   "source": [
    "# KNN FUNCTIONS"
   ]
  },
  {
   "cell_type": "markdown",
   "metadata": {},
   "source": [
    "## Function 1 : To predict the value of Y"
   ]
  },
  {
   "cell_type": "code",
   "execution_count": null,
   "metadata": {},
   "outputs": [],
   "source": [
    "#define function that takes 3 parameters\n",
    "def KNN_1(x_star,X_train,Y_train):                       #the 1st row of x_test,x_train,y_train\n",
    "    min_dist = np.sum((std_X_train.iloc[0] - x_star)**2) #calculating the euclidean distance and setting it as min dist for 1st row\n",
    "    index=0                                              #initialize index = 0\n",
    "    for i in range(0,len(train)):                        #loop for all the 350 entries in x_train\n",
    "        d = np.sqrt(np.sum((std_X_train.iloc[i] - x_star)**2)) # calculating the euclidean distance wrt each row\n",
    "        if d < min_dist:                                       #comparing the distance iwth min_distance\n",
    "            min_dist = d                                       #reassign min_dist accordingly\n",
    "            index = i                                          #assign that particular index\n",
    "    return(Y_train.iloc[index])                                #return the y value of that particular index"
   ]
  },
  {
   "cell_type": "markdown",
   "metadata": {},
   "source": [
    "## Function2 :Y value for all entries and finding Mean Absolute Deviation(MAD)"
   ]
  },
  {
   "cell_type": "code",
   "execution_count": null,
   "metadata": {},
   "outputs": [],
   "source": [
    "#define function that takes 4 parameters\n",
    "def KNN_1_All(X_test,X_train,Y_train,Y_test):         #x_test,x_train,y_test,y_train       \n",
    "    y_predict_list = []                               #initialise an list to hold all the predicted values of y\n",
    "    for i in range(0,len(test)):                      #loop for the 56 entries in y-test\n",
    "        y_predict_value = KNN_1(std_X_test.iloc[i],X_train,Y_train)   #get the y predict using KNN_1 function\n",
    "        y_predict_list.append(y_predict_value)                        #append to the list\n",
    "    y_predict_array = np.array(y_predict_list)                        #create an np array of the list hold the values\n",
    "    error = 0                                                         #initialize error equals 0\n",
    "    for i in range (0,len(std_X_test)):                               #loop for each entry in x_test\n",
    "        error = error +np.abs(Y_test.iloc[i] - y_predict_array[i])    #calulate difference btw predicted and absolute value\n",
    "    MAD = error / len(std_X_test)                                     #calculate MAD\n",
    "    dictionary = {'Predicted': y_predict_array ,'MAD':MAD}            #create a dictionary holding the predicted and MAD value\n",
    "    return(dictionary)                                                #return the dictionary\n",
    "    "
   ]
  },
  {
   "cell_type": "code",
   "execution_count": null,
   "metadata": {},
   "outputs": [],
   "source": []
  },
  {
   "cell_type": "code",
   "execution_count": null,
   "metadata": {},
   "outputs": [],
   "source": []
  },
  {
   "cell_type": "code",
   "execution_count": null,
   "metadata": {},
   "outputs": [],
   "source": []
  },
  {
   "cell_type": "code",
   "execution_count": null,
   "metadata": {},
   "outputs": [],
   "source": []
  }
 ],
 "metadata": {
  "kernelspec": {
   "display_name": "Python 3",
   "language": "python",
   "name": "python3"
  },
  "language_info": {
   "codemirror_mode": {
    "name": "ipython",
    "version": 3
   },
   "file_extension": ".py",
   "mimetype": "text/x-python",
   "name": "python",
   "nbconvert_exporter": "python",
   "pygments_lexer": "ipython3",
   "version": "3.7.4"
  }
 },
 "nbformat": 4,
 "nbformat_minor": 5
}
