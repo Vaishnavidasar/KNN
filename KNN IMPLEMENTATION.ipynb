{
 "cells": [
  {
   "cell_type": "markdown",
   "metadata": {},
   "source": [
    "## KNN IMPLEMENTATION"
   ]
  },
  {
   "cell_type": "markdown",
   "metadata": {},
   "source": [
    "**PROCEDURE**<br>\n",
    "Read cars using Pandas<br>\n",
    "Shuffling the data so that each data is independent of neighbouring values(biasing is avoided)<br>\n",
    "Divide 350 data values to train and remaining to test<br>\n",
    "Our target variable is MPG value from train (y_train)<br>\n",
    "MPG value from test ,which we can verify the model (y_test)<br>\n",
    "Values of Weight,Horsepower,Displacement from train using them we will predict(X_train)<br>\n",
    "Values of Weight,Horsepower,Displacement from test using them we will predict MPG(X_train)<br>\n",
    "Standardization(mean of zero and unit variance)is done for X_train and X_test to bring them to a common scale to compare them(std_X_train,std_X_test)<br>\n",
    "Taking the first row of test of x as X_star<br>"
   ]
  },
  {
   "cell_type": "code",
   "execution_count": 13,
   "metadata": {},
   "outputs": [],
   "source": [
    "import pandas as pd\n",
    "import numpy as np\n",
    "import os"
   ]
  },
  {
   "cell_type": "code",
   "execution_count": 14,
   "metadata": {},
   "outputs": [],
   "source": [
    "os.chdir('C:/Users/Priyanka G/Downloads')\n",
    "car = pd.read_csv(\"cars.csv\") #reading the file"
   ]
  },
  {
   "cell_type": "code",
   "execution_count": 15,
   "metadata": {},
   "outputs": [
    {
     "data": {
      "text/plain": [
       "(406, 9)"
      ]
     },
     "execution_count": 15,
     "metadata": {},
     "output_type": "execute_result"
    }
   ],
   "source": [
    "car.shape"
   ]
  },
  {
   "cell_type": "code",
   "execution_count": 16,
   "metadata": {},
   "outputs": [
    {
     "data": {
      "text/plain": [
       "(406, 9)"
      ]
     },
     "execution_count": 16,
     "metadata": {},
     "output_type": "execute_result"
    }
   ],
   "source": [
    "#shuffling the data so that each data is independent of neighbouring values\n",
    "data = car.sample(len(car))\n",
    "data.head()\n",
    "data.shape"
   ]
  },
  {
   "cell_type": "code",
   "execution_count": 17,
   "metadata": {},
   "outputs": [],
   "source": [
    "#cut the data into 350records for train data\n",
    "train = data.iloc[0:350, ]"
   ]
  },
  {
   "cell_type": "code",
   "execution_count": 18,
   "metadata": {},
   "outputs": [
    {
     "data": {
      "text/plain": [
       "56"
      ]
     },
     "execution_count": 18,
     "metadata": {},
     "output_type": "execute_result"
    }
   ],
   "source": [
    "#cut the data into remaining records i.e 56 for test data\n",
    "test = data.iloc[350:,]\n",
    "len(test)"
   ]
  },
  {
   "cell_type": "code",
   "execution_count": 19,
   "metadata": {},
   "outputs": [],
   "source": [
    "#\n",
    "X_train = train[[\"Weight\",\"Horsepower\",\"Displacement\"]]\n",
    "X_test = test[[\"Weight\",\"Horsepower\",\"Displacement\"]]"
   ]
  },
  {
   "cell_type": "code",
   "execution_count": 20,
   "metadata": {},
   "outputs": [
    {
     "data": {
      "text/plain": [
       "350"
      ]
     },
     "execution_count": 20,
     "metadata": {},
     "output_type": "execute_result"
    }
   ],
   "source": [
    "#standardization of the dataset\n",
    "std_X_train = ((X_train - np.mean(X_train))/np.std(X_train))\n",
    "std_X_train\n",
    "len(std_X_train)"
   ]
  },
  {
   "cell_type": "code",
   "execution_count": 21,
   "metadata": {},
   "outputs": [
    {
     "data": {
      "text/plain": [
       "56"
      ]
     },
     "execution_count": 21,
     "metadata": {},
     "output_type": "execute_result"
    }
   ],
   "source": [
    "#standardization of the dataset\n",
    "std_X_test = ((X_test - np.mean(X_test))/np.std(X_test))\n",
    "len(std_X_test)"
   ]
  },
  {
   "cell_type": "code",
   "execution_count": 22,
   "metadata": {},
   "outputs": [
    {
     "data": {
      "text/plain": [
       "350"
      ]
     },
     "execution_count": 22,
     "metadata": {},
     "output_type": "execute_result"
    }
   ],
   "source": [
    "Y_train = train[\"MPG\"]\n",
    "Y_test = test[\"MPG\"]\n",
    "\n",
    "len(Y_train )"
   ]
  },
  {
   "cell_type": "code",
   "execution_count": 23,
   "metadata": {},
   "outputs": [
    {
     "data": {
      "text/plain": [
       "Weight         -0.059514\n",
       "Horsepower     -0.320497\n",
       "Displacement   -0.523557\n",
       "Name: 289, dtype: float64"
      ]
     },
     "execution_count": 23,
     "metadata": {},
     "output_type": "execute_result"
    }
   ],
   "source": [
    "x_star = std_X_test.iloc[0]  #assgining the first row of test data to x_star\n",
    "x_star"
   ]
  },
  {
   "cell_type": "code",
   "execution_count": 24,
   "metadata": {},
   "outputs": [],
   "source": [
    "def KNN_1(x_star,X_train,Y_train):\n",
    "    k=1\n",
    "    list_of_distance = []\n",
    "    dic_dist = {}\n",
    "    abs_sum=0\n",
    "    for i in range(0,len(train)):\n",
    "        d = np.sqrt(np.sum((std_X_train.iloc[i] - x_star)**2))\n",
    "        dic_dist[d] = Y_train.iloc[i]\n",
    "        list_of_distance.append(d)\n",
    "    list_of_distance.sort()\n",
    "    k_no_distance = list_of_distance[0:k]\n",
    "    for i in k_no_distance:\n",
    "        y = dic_dist[i]\n",
    "        abs_sum = abs_sum + y\n",
    "    abs_value = abs_sum / k\n",
    "    return(abs_value)\n",
    "    \n",
    "    "
   ]
  },
  {
   "cell_type": "code",
   "execution_count": 27,
   "metadata": {},
   "outputs": [
    {
     "data": {
      "text/plain": [
       "24.0"
      ]
     },
     "execution_count": 27,
     "metadata": {},
     "output_type": "execute_result"
    }
   ],
   "source": [
    "x_star = std_X_test.iloc[0]\n",
    "KNN_1(x_star,std_X_train,Y_train)"
   ]
  },
  {
   "cell_type": "code",
   "execution_count": null,
   "metadata": {},
   "outputs": [],
   "source": []
  },
  {
   "cell_type": "code",
   "execution_count": null,
   "metadata": {},
   "outputs": [],
   "source": []
  },
  {
   "cell_type": "code",
   "execution_count": null,
   "metadata": {},
   "outputs": [],
   "source": []
  }
 ],
 "metadata": {
  "kernelspec": {
   "display_name": "Python 3",
   "language": "python",
   "name": "python3"
  },
  "language_info": {
   "codemirror_mode": {
    "name": "ipython",
    "version": 3
   },
   "file_extension": ".py",
   "mimetype": "text/x-python",
   "name": "python",
   "nbconvert_exporter": "python",
   "pygments_lexer": "ipython3",
   "version": "3.7.4"
  }
 },
 "nbformat": 4,
 "nbformat_minor": 5
}
